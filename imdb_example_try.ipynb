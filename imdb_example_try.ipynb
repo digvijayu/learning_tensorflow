{
 "cells": [
  {
   "cell_type": "code",
   "execution_count": 1,
   "metadata": {},
   "outputs": [
    {
     "name": "stderr",
     "output_type": "stream",
     "text": [
      "/Users/digvijay.upadhyay/anaconda3/lib/python3.6/site-packages/h5py/__init__.py:36: FutureWarning: Conversion of the second argument of issubdtype from `float` to `np.floating` is deprecated. In future, it will be treated as `np.float64 == np.dtype(float).type`.\n",
      "  from ._conv import register_converters as _register_converters\n"
     ]
    }
   ],
   "source": [
    "import tensorflow as tf\n",
    "from tensorflow import keras\n",
    "\n",
    "import numpy as np"
   ]
  },
  {
   "cell_type": "code",
   "execution_count": 2,
   "metadata": {},
   "outputs": [
    {
     "name": "stdout",
     "output_type": "stream",
     "text": [
      "1.10.0\n"
     ]
    }
   ],
   "source": [
    "print(tf.__version__)"
   ]
  },
  {
   "cell_type": "code",
   "execution_count": 3,
   "metadata": {},
   "outputs": [],
   "source": [
    "imdb = keras.datasets.imdb"
   ]
  },
  {
   "cell_type": "code",
   "execution_count": 4,
   "metadata": {},
   "outputs": [
    {
     "name": "stdout",
     "output_type": "stream",
     "text": [
      "Downloading data from https://storage.googleapis.com/tensorflow/tf-keras-datasets/imdb.npz\n",
      "17465344/17464789 [==============================] - 3s 0us/step\n"
     ]
    }
   ],
   "source": [
    "(train_data, train_labels), (test_data, test_labels) = imdb.load_data(num_words=10000)"
   ]
  },
  {
   "cell_type": "code",
   "execution_count": 9,
   "metadata": {},
   "outputs": [
    {
     "name": "stdout",
     "output_type": "stream",
     "text": [
      "Downloading data from https://storage.googleapis.com/tensorflow/tf-keras-datasets/imdb_word_index.json\n",
      "1646592/1641221 [==============================] - 1s 1us/step\n"
     ]
    }
   ],
   "source": [
    "word_index = imdb.get_word_index()"
   ]
  },
  {
   "cell_type": "code",
   "execution_count": 10,
   "metadata": {},
   "outputs": [],
   "source": [
    "# The first indices are reserved\n",
    "word_index = {k:(v+3) for k,v in word_index.items()} \n",
    "word_index[\"<PAD>\"] = 0\n",
    "word_index[\"<START>\"] = 1\n",
    "word_index[\"<UNK>\"] = 2  # unknown\n",
    "word_index[\"<UNUSED>\"] = 3\n",
    "\n",
    "reverse_word_index = dict([(value, key) for (key, value) in word_index.items()])\n",
    "\n",
    "def decode_review(text):\n",
    "    return ' '.join([reverse_word_index.get(i, '?') for i in text])"
   ]
  },
  {
   "cell_type": "code",
   "execution_count": 11,
   "metadata": {},
   "outputs": [
    {
     "data": {
      "text/plain": [
       "\"<START> this film was just brilliant casting location scenery story direction everyone's really suited the part they played and you could just imagine being there robert <UNK> is an amazing actor and now the same being director <UNK> father came from the same scottish island as myself so i loved the fact there was a real connection with this film the witty remarks throughout the film were great it was just brilliant so much that i bought the film as soon as it was released for <UNK> and would recommend it to everyone to watch and the fly fishing was amazing really cried at the end it was so sad and you know what they say if you cry at a film it must have been good and this definitely was also <UNK> to the two little boy's that played the <UNK> of norman and paul they were just brilliant children are often left out of the <UNK> list i think because the stars that play them all grown up are such a big profile for the whole film but these children are amazing and should be praised for what they have done don't you think the whole story was so lovely because it was true and was someone's life after all that was shared with us all\""
      ]
     },
     "execution_count": 11,
     "metadata": {},
     "output_type": "execute_result"
    }
   ],
   "source": [
    "decode_review(train_data[0])"
   ]
  },
  {
   "cell_type": "code",
   "execution_count": 21,
   "metadata": {},
   "outputs": [
    {
     "name": "stdout",
     "output_type": "stream",
     "text": [
      "[[   1   14   22 ...    0    0    0]\n",
      " [   1  194 1153 ...    0    0    0]\n",
      " [   1   14   47 ...    0    0    0]\n",
      " ...\n",
      " [   1   11    6 ...    0    0    0]\n",
      " [   1 1446 7079 ...    0    0    0]\n",
      " [   1   17    6 ...    0    0    0]]\n"
     ]
    }
   ],
   "source": [
    "train_data = keras.preprocessing.sequence.pad_sequences(train_data,\n",
    "                                                        value=word_index[\"<PAD>\"],\n",
    "                                                        padding='post',\n",
    "                                                        maxlen=256)\n",
    "\n",
    "test_data = keras.preprocessing.sequence.pad_sequences(test_data,\n",
    "                                                       value=word_index[\"<PAD>\"],\n",
    "                                                       padding='post',\n",
    "                                                       maxlen=256)"
   ]
  },
  {
   "cell_type": "code",
   "execution_count": 13,
   "metadata": {},
   "outputs": [
    {
     "name": "stdout",
     "output_type": "stream",
     "text": [
      "_________________________________________________________________\n",
      "Layer (type)                 Output Shape              Param #   \n",
      "=================================================================\n",
      "embedding (Embedding)        (None, None, 16)          160000    \n",
      "_________________________________________________________________\n",
      "global_average_pooling1d (Gl (None, 16)                0         \n",
      "_________________________________________________________________\n",
      "dense (Dense)                (None, 16)                272       \n",
      "_________________________________________________________________\n",
      "dense_1 (Dense)              (None, 1)                 17        \n",
      "=================================================================\n",
      "Total params: 160,289\n",
      "Trainable params: 160,289\n",
      "Non-trainable params: 0\n",
      "_________________________________________________________________\n"
     ]
    }
   ],
   "source": [
    "# input shape is the vocabulary count used for the movie reviews (10,000 words)\n",
    "vocab_size = 10000\n",
    "\n",
    "model = keras.Sequential()\n",
    "model.add(keras.layers.Embedding(vocab_size, 16))\n",
    "model.add(keras.layers.GlobalAveragePooling1D())\n",
    "model.add(keras.layers.Dense(16, activation=tf.nn.relu))\n",
    "model.add(keras.layers.Dense(1, activation=tf.nn.sigmoid))\n",
    "\n",
    "model.summary()"
   ]
  },
  {
   "cell_type": "code",
   "execution_count": 14,
   "metadata": {},
   "outputs": [],
   "source": [
    "model.compile(optimizer=tf.train.AdamOptimizer(),\n",
    "              loss='binary_crossentropy',\n",
    "              metrics=['accuracy'])"
   ]
  },
  {
   "cell_type": "code",
   "execution_count": 39,
   "metadata": {},
   "outputs": [
    {
     "name": "stdout",
     "output_type": "stream",
     "text": [
      "[[   1   14   22 ...    0    0    0]\n",
      " [   1  194 1153 ...    0    0    0]\n",
      " [   1   14   47 ...    0    0    0]\n",
      " ...\n",
      " [   1   14    9 ...    0    0    0]\n",
      " [   1   14   20 ...    0    0    0]\n",
      " [   1   51  527 ...    0    0    0]]\n",
      "[[   1   13  104 ...    0    0    0]\n",
      " [   1   14   20 ...    0    0    0]\n",
      " [   1   86  125 ...    0    0    0]\n",
      " ...\n",
      " [   1   11    6 ...    0    0    0]\n",
      " [   1 1446 7079 ...    0    0    0]\n",
      " [   1   17    6 ...    0    0    0]]\n",
      "[1 0 0 ... 1 0 0]\n",
      "[0 0 0 ... 0 1 0]\n"
     ]
    }
   ],
   "source": [
    "# Create validation set\n",
    "x_val = train_data[:10000]\n",
    "partial_x_train = train_data[10000:]\n",
    "print(x_val)\n",
    "print(partial_x_train)\n",
    "\n",
    "\n",
    "y_val = train_labels[:10000]\n",
    "partial_y_train = train_labels[10000:]\n",
    "\n",
    "print(y_val)\n",
    "print(partial_y_train)"
   ]
  },
  {
   "cell_type": "code",
   "execution_count": 16,
   "metadata": {},
   "outputs": [
    {
     "name": "stdout",
     "output_type": "stream",
     "text": [
      "Train on 15000 samples, validate on 10000 samples\n",
      "Epoch 1/40\n",
      "15000/15000 [==============================] - 1s 50us/step - loss: 0.6938 - acc: 0.5165 - val_loss: 0.6912 - val_acc: 0.5145\n",
      "Epoch 2/40\n",
      "15000/15000 [==============================] - 0s 24us/step - loss: 0.6898 - acc: 0.5297 - val_loss: 0.6887 - val_acc: 0.5377\n",
      "Epoch 3/40\n",
      "15000/15000 [==============================] - 0s 25us/step - loss: 0.6869 - acc: 0.5671 - val_loss: 0.6861 - val_acc: 0.5862\n",
      "Epoch 4/40\n",
      "15000/15000 [==============================] - 0s 28us/step - loss: 0.6832 - acc: 0.6098 - val_loss: 0.6836 - val_acc: 0.5481\n",
      "Epoch 5/40\n",
      "15000/15000 [==============================] - 0s 25us/step - loss: 0.6785 - acc: 0.6470 - val_loss: 0.6770 - val_acc: 0.6626\n",
      "Epoch 6/40\n",
      "15000/15000 [==============================] - 0s 30us/step - loss: 0.6715 - acc: 0.6932 - val_loss: 0.6695 - val_acc: 0.6941\n",
      "Epoch 7/40\n",
      "15000/15000 [==============================] - 0s 27us/step - loss: 0.6618 - acc: 0.7135 - val_loss: 0.6596 - val_acc: 0.7090\n",
      "Epoch 8/40\n",
      "15000/15000 [==============================] - 0s 27us/step - loss: 0.6486 - acc: 0.7327 - val_loss: 0.6463 - val_acc: 0.7214\n",
      "Epoch 9/40\n",
      "15000/15000 [==============================] - 0s 26us/step - loss: 0.6319 - acc: 0.7433 - val_loss: 0.6287 - val_acc: 0.7339\n",
      "Epoch 10/40\n",
      "15000/15000 [==============================] - 0s 32us/step - loss: 0.6107 - acc: 0.7619 - val_loss: 0.6079 - val_acc: 0.7514\n",
      "Epoch 11/40\n",
      "15000/15000 [==============================] - 0s 30us/step - loss: 0.5852 - acc: 0.7673 - val_loss: 0.5820 - val_acc: 0.7449\n",
      "Epoch 12/40\n",
      "15000/15000 [==============================] - 0s 28us/step - loss: 0.5510 - acc: 0.7819 - val_loss: 0.5502 - val_acc: 0.7787\n",
      "Epoch 13/40\n",
      "15000/15000 [==============================] - 0s 28us/step - loss: 0.5186 - acc: 0.8049 - val_loss: 0.5228 - val_acc: 0.7952\n",
      "Epoch 14/40\n",
      "15000/15000 [==============================] - 0s 27us/step - loss: 0.4878 - acc: 0.8207 - val_loss: 0.4956 - val_acc: 0.8069\n",
      "Epoch 15/40\n",
      "15000/15000 [==============================] - 0s 31us/step - loss: 0.4576 - acc: 0.8361 - val_loss: 0.4688 - val_acc: 0.8162\n",
      "Epoch 16/40\n",
      "15000/15000 [==============================] - 0s 31us/step - loss: 0.4296 - acc: 0.8437 - val_loss: 0.4442 - val_acc: 0.8302\n",
      "Epoch 17/40\n",
      "15000/15000 [==============================] - 0s 26us/step - loss: 0.4025 - acc: 0.8598 - val_loss: 0.4225 - val_acc: 0.8385\n",
      "Epoch 18/40\n",
      "15000/15000 [==============================] - 0s 31us/step - loss: 0.3788 - acc: 0.8681 - val_loss: 0.4030 - val_acc: 0.8453\n",
      "Epoch 19/40\n",
      "15000/15000 [==============================] - 0s 30us/step - loss: 0.3579 - acc: 0.8762 - val_loss: 0.3865 - val_acc: 0.8513\n",
      "Epoch 20/40\n",
      "15000/15000 [==============================] - 0s 28us/step - loss: 0.3393 - acc: 0.8833 - val_loss: 0.3722 - val_acc: 0.8570\n",
      "Epoch 21/40\n",
      "15000/15000 [==============================] - 1s 34us/step - loss: 0.3230 - acc: 0.8885 - val_loss: 0.3601 - val_acc: 0.8612\n",
      "Epoch 22/40\n",
      "15000/15000 [==============================] - 0s 32us/step - loss: 0.3084 - acc: 0.8931 - val_loss: 0.3498 - val_acc: 0.8650\n",
      "Epoch 23/40\n",
      "15000/15000 [==============================] - 0s 32us/step - loss: 0.2958 - acc: 0.8955 - val_loss: 0.3415 - val_acc: 0.8665\n",
      "Epoch 24/40\n",
      "15000/15000 [==============================] - 0s 28us/step - loss: 0.2838 - acc: 0.9003 - val_loss: 0.3335 - val_acc: 0.8693\n",
      "Epoch 25/40\n",
      "15000/15000 [==============================] - 1s 36us/step - loss: 0.2733 - acc: 0.9037 - val_loss: 0.3269 - val_acc: 0.8722\n",
      "Epoch 26/40\n",
      "15000/15000 [==============================] - 1s 34us/step - loss: 0.2635 - acc: 0.9070 - val_loss: 0.3218 - val_acc: 0.8732\n",
      "Epoch 27/40\n",
      "15000/15000 [==============================] - 0s 31us/step - loss: 0.2551 - acc: 0.9093 - val_loss: 0.3166 - val_acc: 0.8747\n",
      "Epoch 28/40\n",
      "15000/15000 [==============================] - 0s 30us/step - loss: 0.2463 - acc: 0.9129 - val_loss: 0.3118 - val_acc: 0.8757\n",
      "Epoch 29/40\n",
      "15000/15000 [==============================] - 0s 28us/step - loss: 0.2388 - acc: 0.9156 - val_loss: 0.3084 - val_acc: 0.8766\n",
      "Epoch 30/40\n",
      "15000/15000 [==============================] - 1s 42us/step - loss: 0.2324 - acc: 0.9166 - val_loss: 0.3047 - val_acc: 0.8781\n",
      "Epoch 31/40\n",
      "15000/15000 [==============================] - 1s 39us/step - loss: 0.2246 - acc: 0.9207 - val_loss: 0.3021 - val_acc: 0.8797\n",
      "Epoch 32/40\n",
      "15000/15000 [==============================] - 0s 30us/step - loss: 0.2188 - acc: 0.9228 - val_loss: 0.2994 - val_acc: 0.8801\n",
      "Epoch 33/40\n",
      "15000/15000 [==============================] - 1s 39us/step - loss: 0.2120 - acc: 0.9255 - val_loss: 0.2971 - val_acc: 0.8812\n",
      "Epoch 34/40\n",
      "15000/15000 [==============================] - 1s 35us/step - loss: 0.2063 - acc: 0.9275 - val_loss: 0.2958 - val_acc: 0.8810\n",
      "Epoch 35/40\n",
      "15000/15000 [==============================] - 0s 30us/step - loss: 0.2013 - acc: 0.9290 - val_loss: 0.2936 - val_acc: 0.8827\n",
      "Epoch 36/40\n",
      "15000/15000 [==============================] - 0s 30us/step - loss: 0.1953 - acc: 0.9317 - val_loss: 0.2921 - val_acc: 0.8830\n",
      "Epoch 37/40\n",
      "15000/15000 [==============================] - 0s 26us/step - loss: 0.1904 - acc: 0.9337 - val_loss: 0.2909 - val_acc: 0.8836\n",
      "Epoch 38/40\n",
      "15000/15000 [==============================] - 0s 30us/step - loss: 0.1856 - acc: 0.9355 - val_loss: 0.2901 - val_acc: 0.8832\n",
      "Epoch 39/40\n",
      "15000/15000 [==============================] - 0s 30us/step - loss: 0.1805 - acc: 0.9379 - val_loss: 0.2890 - val_acc: 0.8841\n",
      "Epoch 40/40\n",
      "15000/15000 [==============================] - 0s 29us/step - loss: 0.1760 - acc: 0.9397 - val_loss: 0.2883 - val_acc: 0.8842\n"
     ]
    }
   ],
   "source": [
    "# Train the model\n",
    "history = model.fit(partial_x_train,\n",
    "                    partial_y_train,\n",
    "                    epochs=40,\n",
    "                    batch_size=512,\n",
    "                    validation_data=(x_val, y_val),\n",
    "                    verbose=1)"
   ]
  },
  {
   "cell_type": "code",
   "execution_count": 17,
   "metadata": {},
   "outputs": [
    {
     "name": "stdout",
     "output_type": "stream",
     "text": [
      "25000/25000 [==============================] - 0s 17us/step\n",
      "[0.303631557559967, 0.87728]\n"
     ]
    }
   ],
   "source": [
    "# Evaluate the model\n",
    "results = model.evaluate(test_data, test_labels)\n",
    "\n",
    "print(results)"
   ]
  },
  {
   "cell_type": "code",
   "execution_count": 19,
   "metadata": {},
   "outputs": [
    {
     "data": {
      "text/plain": [
       "<Figure size 640x480 with 1 Axes>"
      ]
     },
     "metadata": {},
     "output_type": "display_data"
    }
   ],
   "source": [
    "# Create graph for acuracy and loss\n",
    "history_dict = history.history\n",
    "history_dict.keys()\n",
    "\n",
    "#dict_keys(['loss', 'val_loss', 'acc', 'val_acc'])\n",
    "\n",
    "import matplotlib.pyplot as plt\n",
    "\n",
    "acc = history.history['acc']\n",
    "val_acc = history.history['val_acc']\n",
    "loss = history.history['loss']\n",
    "val_loss = history.history['val_loss']\n",
    "\n",
    "epochs = range(1, len(acc) + 1)\n",
    "\n",
    "# \"bo\" is for \"blue dot\"\n",
    "plt.plot(epochs, loss, 'bo', label='Training loss')\n",
    "# b is for \"solid blue line\"\n",
    "plt.plot(epochs, val_loss, 'b', label='Validation loss')\n",
    "plt.title('Training and validation loss')\n",
    "plt.xlabel('Epochs')\n",
    "plt.ylabel('Loss')\n",
    "plt.legend()\n",
    "\n",
    "plt.show()\n",
    "\n",
    "\n"
   ]
  },
  {
   "cell_type": "code",
   "execution_count": 20,
   "metadata": {},
   "outputs": [
    {
     "data": {
      "image/png": "[encoded data removed]",
      "text/plain": [
       "<Figure size 432x288 with 1 Axes>"
      ]
     },
     "metadata": {},
     "output_type": "display_data"
    }
   ],
   "source": [
    "plt.clf()   # clear figure\n",
    "acc_values = history_dict['acc']\n",
    "val_acc_values = history_dict['val_acc']\n",
    "\n",
    "plt.plot(epochs, acc, 'bo', label='Training acc')\n",
    "plt.plot(epochs, val_acc, 'b', label='Validation acc')\n",
    "plt.title('Training and validation accuracy')\n",
    "plt.xlabel('Epochs')\n",
    "plt.ylabel('Accuracy')\n",
    "plt.legend()\n",
    "\n",
    "plt.show()"
   ]
  },
  {
   "cell_type": "code",
   "execution_count": null,
   "metadata": {},
   "outputs": [],
   "source": []
  }
 ],
 "metadata": {
  "kernelspec": {
   "display_name": "Python 3",
   "language": "python",
   "name": "python3"
  },
  "language_info": {
   "codemirror_mode": {
    "name": "ipython",
    "version": 3
   },
   "file_extension": ".py",
   "mimetype": "text/x-python",
   "name": "python",
   "nbconvert_exporter": "python",
   "pygments_lexer": "ipython3",
   "version": "3.6.5"
  }
 },
 "nbformat": 4,
 "nbformat_minor": 2
}
